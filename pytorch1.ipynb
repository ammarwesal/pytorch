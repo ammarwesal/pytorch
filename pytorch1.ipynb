{
  "nbformat": 4,
  "nbformat_minor": 0,
  "metadata": {
    "colab": {
      "provenance": [],
      "gpuType": "T4",
      "authorship_tag": "ABX9TyO377FikA6xERs41ljek4LQ",
      "include_colab_link": true
    },
    "kernelspec": {
      "name": "python3",
      "display_name": "Python 3"
    },
    "language_info": {
      "name": "python"
    },
    "accelerator": "GPU"
  },
  "cells": [
    {
      "cell_type": "markdown",
      "metadata": {
        "id": "view-in-github",
        "colab_type": "text"
      },
      "source": [
        "<a href=\"https://colab.research.google.com/github/ammarwesal/pytorch/blob/main/pytorch1.ipynb\" target=\"_parent\"><img src=\"https://colab.research.google.com/assets/colab-badge.svg\" alt=\"Open In Colab\"/></a>"
      ]
    },
    {
      "cell_type": "markdown",
      "source": [
        "https://youtu.be/exaWOE8jvy8?si=K4u0Gh_BPL-faC4o"
      ],
      "metadata": {
        "id": "KGWj-etYDL0I"
      }
    },
    {
      "cell_type": "code",
      "execution_count": null,
      "metadata": {
        "colab": {
          "base_uri": "https://localhost:8080/"
        },
        "id": "i1ZaZ93R6Wgn",
        "outputId": "f5d15e91-fa64-4f69-f9f4-6a72814c9e32"
      },
      "outputs": [
        {
          "output_type": "stream",
          "name": "stdout",
          "text": [
            "2.8.0+cu126\n"
          ]
        }
      ],
      "source": [
        "import torch\n",
        "print(torch.__version__)\n"
      ]
    },
    {
      "cell_type": "code",
      "source": [
        "if torch.cuda.is_available():\n",
        "    print(\"CUDA is available\")\n",
        "    print(f\"useing GPU: {torch.cuda.get_device_name(0)}\")\n",
        "else:\n",
        "    print(\"CUDA is not available\")"
      ],
      "metadata": {
        "colab": {
          "base_uri": "https://localhost:8080/"
        },
        "id": "UbRtclJe6r7P",
        "outputId": "76ed2d9f-58ac-4f0b-cfef-6aa2cc59a807"
      },
      "execution_count": null,
      "outputs": [
        {
          "output_type": "stream",
          "name": "stdout",
          "text": [
            "CUDA is available\n",
            "useing GPU: Tesla T4\n"
          ]
        }
      ]
    },
    {
      "cell_type": "code",
      "source": [
        "x=torch.empty(2,2,3)\n",
        "print(x)"
      ],
      "metadata": {
        "colab": {
          "base_uri": "https://localhost:8080/"
        },
        "id": "pWioMcO_7VAq",
        "outputId": "dc25e523-1fe9-47be-a661-907a94ba53a0"
      },
      "execution_count": null,
      "outputs": [
        {
          "output_type": "stream",
          "name": "stdout",
          "text": [
            "tensor([[[2.8026e-45, 1.8217e-44, 0.0000e+00],\n",
            "         [0.0000e+00, 0.0000e+00, 0.0000e+00]],\n",
            "\n",
            "        [[1.4013e-43, 0.0000e+00, 1.4013e-45],\n",
            "         [1.4013e-45, 1.9618e-44, 2.1019e-44]]])\n"
          ]
        }
      ]
    },
    {
      "cell_type": "code",
      "source": [
        "y=torch.zeros(2,2,dtype=torch.double)\n",
        "print(y.dtype)\n",
        "print(y.size())"
      ],
      "metadata": {
        "colab": {
          "base_uri": "https://localhost:8080/"
        },
        "id": "pG_HAWRX8VH6",
        "outputId": "7968bc83-6295-4d49-d4cf-7ac0d7d0cb32"
      },
      "execution_count": null,
      "outputs": [
        {
          "output_type": "stream",
          "name": "stdout",
          "text": [
            "torch.float64\n",
            "torch.Size([2, 2])\n"
          ]
        }
      ]
    },
    {
      "cell_type": "code",
      "source": [
        "y=torch.tensor([2.5,0.2])\n",
        "print(y)"
      ],
      "metadata": {
        "colab": {
          "base_uri": "https://localhost:8080/"
        },
        "id": "h0KHtR5y9HsT",
        "outputId": "1689755b-4ceb-4697-db84-bf5cfc66a7b4"
      },
      "execution_count": null,
      "outputs": [
        {
          "output_type": "stream",
          "name": "stdout",
          "text": [
            "tensor([2.5000, 0.2000])\n"
          ]
        }
      ]
    },
    {
      "cell_type": "code",
      "source": [
        "y=torch.rand(2,2)\n",
        "x=torch.rand(2,2)\n",
        "print(y)\n",
        "print(x)\n",
        "#z=x+y\n",
        "z=torch.add(x,y)\n",
        "print(z)# similaerly for sub/mul/div"
      ],
      "metadata": {
        "colab": {
          "base_uri": "https://localhost:8080/"
        },
        "id": "gckPomtq-an4",
        "outputId": "f13834f3-7f94-4b54-d8af-12f7a7d70797"
      },
      "execution_count": null,
      "outputs": [
        {
          "output_type": "stream",
          "name": "stdout",
          "text": [
            "tensor([[0.0536, 0.9526],\n",
            "        [0.7347, 0.1523]])\n",
            "tensor([[0.9772, 0.4263],\n",
            "        [0.3748, 0.5817]])\n",
            "tensor([[1.0308, 1.3790],\n",
            "        [1.1095, 0.7340]])\n"
          ]
        }
      ]
    },
    {
      "cell_type": "code",
      "source": [
        "y=torch.rand(2,2)\n",
        "x=torch.rand(2,2)\n",
        "y.add_(x)# similaerly for sub/mul/div\n",
        "print(y)"
      ],
      "metadata": {
        "colab": {
          "base_uri": "https://localhost:8080/"
        },
        "id": "AZkKa6He-xeF",
        "outputId": "2912b539-06a9-49c2-c4bb-156f24c5e8d1"
      },
      "execution_count": null,
      "outputs": [
        {
          "output_type": "stream",
          "name": "stdout",
          "text": [
            "tensor([[1.0339, 1.5898],\n",
            "        [1.4193, 1.7510]])\n"
          ]
        }
      ]
    },
    {
      "cell_type": "code",
      "source": [
        "x=torch.rand(5,3)\n",
        "print(x)\n",
        "print(x[:, 0])\n",
        "print(x[1, :])\n",
        "print(x[1, 1].item())"
      ],
      "metadata": {
        "colab": {
          "base_uri": "https://localhost:8080/"
        },
        "id": "VEK8OsjJ_l85",
        "outputId": "af251b99-b1e8-4d46-c507-c84b583aaa26"
      },
      "execution_count": null,
      "outputs": [
        {
          "output_type": "stream",
          "name": "stdout",
          "text": [
            "tensor([[0.8414, 0.6628, 0.2680],\n",
            "        [0.6466, 0.8081, 0.4533],\n",
            "        [0.4390, 0.9847, 0.0482],\n",
            "        [0.8145, 0.5951, 0.5881],\n",
            "        [0.2139, 0.8975, 0.4977]])\n",
            "tensor([0.8414, 0.6466, 0.4390, 0.8145, 0.2139])\n",
            "tensor([0.6466, 0.8081, 0.4533])\n",
            "0.8080822229385376\n"
          ]
        }
      ]
    },
    {
      "cell_type": "code",
      "source": [
        "x=torch.rand(4,4)\n",
        "print(x)\n",
        "y=x.view(16)\n",
        "print(y)\n",
        "y=x.view(-1, 8)\n",
        "print(y)"
      ],
      "metadata": {
        "colab": {
          "base_uri": "https://localhost:8080/"
        },
        "id": "koW79VnsAPK4",
        "outputId": "c4362f13-2f11-4308-a7f3-232925b574de"
      },
      "execution_count": null,
      "outputs": [
        {
          "output_type": "stream",
          "name": "stdout",
          "text": [
            "tensor([[0.4879, 0.1752, 0.2913, 0.0370],\n",
            "        [0.2917, 0.0326, 0.0200, 0.1829],\n",
            "        [0.0434, 0.9675, 0.2074, 0.8375],\n",
            "        [0.0083, 0.9602, 0.8435, 0.2532]])\n",
            "tensor([0.4879, 0.1752, 0.2913, 0.0370, 0.2917, 0.0326, 0.0200, 0.1829, 0.0434,\n",
            "        0.9675, 0.2074, 0.8375, 0.0083, 0.9602, 0.8435, 0.2532])\n",
            "tensor([[0.4879, 0.1752, 0.2913, 0.0370, 0.2917, 0.0326, 0.0200, 0.1829],\n",
            "        [0.0434, 0.9675, 0.2074, 0.8375, 0.0083, 0.9602, 0.8435, 0.2532]])\n"
          ]
        }
      ]
    },
    {
      "cell_type": "code",
      "source": [
        "import numpy as np"
      ],
      "metadata": {
        "id": "5zUWpFU3AyoT"
      },
      "execution_count": null,
      "outputs": []
    },
    {
      "cell_type": "code",
      "source": [
        "a=torch.ones(5)\n",
        "print(a)\n",
        "b=a.numpy()\n",
        "print(b)\n",
        "print(type(b))\n",
        "\n",
        "a.add_(1)\n",
        "print(a)\n",
        "print(b)"
      ],
      "metadata": {
        "colab": {
          "base_uri": "https://localhost:8080/"
        },
        "id": "jhYD8ihLBB6q",
        "outputId": "91d6cccb-8e9b-4e9b-aae6-0c07eddbc9f2"
      },
      "execution_count": null,
      "outputs": [
        {
          "output_type": "stream",
          "name": "stdout",
          "text": [
            "tensor([1., 1., 1., 1., 1.])\n",
            "[1. 1. 1. 1. 1.]\n",
            "<class 'numpy.ndarray'>\n",
            "tensor([2., 2., 2., 2., 2.])\n",
            "[2. 2. 2. 2. 2.]\n"
          ]
        }
      ]
    },
    {
      "cell_type": "code",
      "source": [
        "a=np.ones(5)\n",
        "print(a)\n",
        "b=torch.from_numpy(a)\n",
        "print(b)\n",
        "\n",
        "a+=1\n",
        "print(a)\n",
        "print(b)"
      ],
      "metadata": {
        "colab": {
          "base_uri": "https://localhost:8080/"
        },
        "id": "4s2JwAbWBF3a",
        "outputId": "dad31ba1-ff87-481a-ff82-750e3b24ea60"
      },
      "execution_count": null,
      "outputs": [
        {
          "output_type": "stream",
          "name": "stdout",
          "text": [
            "[1. 1. 1. 1. 1.]\n",
            "tensor([1., 1., 1., 1., 1.], dtype=torch.float64)\n",
            "[2. 2. 2. 2. 2.]\n",
            "tensor([2., 2., 2., 2., 2.], dtype=torch.float64)\n"
          ]
        }
      ]
    },
    {
      "cell_type": "code",
      "source": [],
      "metadata": {
        "id": "sz90Sv0YCWWH"
      },
      "execution_count": null,
      "outputs": []
    }
  ]
}