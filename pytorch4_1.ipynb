{
  "nbformat": 4,
  "nbformat_minor": 0,
  "metadata": {
    "colab": {
      "provenance": [],
      "authorship_tag": "ABX9TyOg0TuTDVseIXfwDMUYNCy5",
      "include_colab_link": true
    },
    "kernelspec": {
      "name": "python3",
      "display_name": "Python 3"
    },
    "language_info": {
      "name": "python"
    }
  },
  "cells": [
    {
      "cell_type": "markdown",
      "metadata": {
        "id": "view-in-github",
        "colab_type": "text"
      },
      "source": [
        "<a href=\"https://colab.research.google.com/github/ammarwesal/pytorch/blob/main/pytorch4_1.ipynb\" target=\"_parent\"><img src=\"https://colab.research.google.com/assets/colab-badge.svg\" alt=\"Open In Colab\"/></a>"
      ]
    },
    {
      "cell_type": "markdown",
      "source": [
        "https://www.youtube.com/watch?v=E-I2DNVzQLg&list=PLqnslRFeH2UrcDBWF5mfPGpqQDSta6VK4&index=5"
      ],
      "metadata": {
        "id": "-3fQa-uUuh1U"
      }
    },
    {
      "cell_type": "markdown",
      "source": [
        "###prediction:MANUALLY\n",
        "###gradienT_computation:MANUALLY\n",
        "###loss_computation:MANUALLY\n",
        "###parameter_updates:MANUALLY\n",
        "\n",
        "`\n",
        "\n",
        "\n",
        "\n",
        "\n",
        "\n"
      ],
      "metadata": {
        "id": "NjmHZ_4Nu1JD"
      }
    },
    {
      "cell_type": "code",
      "execution_count": null,
      "metadata": {
        "colab": {
          "base_uri": "https://localhost:8080/"
        },
        "id": "jOxngDpzucuE",
        "outputId": "077871ae-1392-432b-c80c-3aa5b6b06b23"
      },
      "outputs": [
        {
          "output_type": "stream",
          "name": "stdout",
          "text": [
            "prediction before training: f(5)=0.000\n",
            "epoch 1: w=1.200, loss=30.00000000\n",
            "prediction after training: f(5)=6.000\n",
            "epoch 2: w=1.680, loss=4.80000067\n",
            "prediction after training: f(5)=8.400\n",
            "epoch 3: w=1.872, loss=0.76800019\n",
            "prediction after training: f(5)=9.360\n",
            "epoch 4: w=1.949, loss=0.12288000\n",
            "prediction after training: f(5)=9.744\n",
            "epoch 5: w=1.980, loss=0.01966083\n",
            "prediction after training: f(5)=9.898\n",
            "epoch 6: w=1.992, loss=0.00314574\n",
            "prediction after training: f(5)=9.959\n",
            "epoch 7: w=1.997, loss=0.00050332\n",
            "prediction after training: f(5)=9.984\n",
            "epoch 8: w=1.999, loss=0.00008053\n",
            "prediction after training: f(5)=9.993\n",
            "epoch 9: w=1.999, loss=0.00001288\n",
            "prediction after training: f(5)=9.997\n",
            "epoch 10: w=2.000, loss=0.00000206\n",
            "prediction after training: f(5)=9.999\n",
            "epoch 11: w=2.000, loss=0.00000033\n",
            "prediction after training: f(5)=10.000\n",
            "epoch 12: w=2.000, loss=0.00000005\n",
            "prediction after training: f(5)=10.000\n",
            "epoch 13: w=2.000, loss=0.00000001\n",
            "prediction after training: f(5)=10.000\n"
          ]
        }
      ],
      "source": [
        "import numpy as np\n",
        "\n",
        "#f=w*x\n",
        "\n",
        "#f=2*x\n",
        "X=np.array([1,2,3,4],dtype=np.float32)\n",
        "y=np.array([2,4,6,8],dtype=np.float32)\n",
        "\n",
        "w=0.0\n",
        "\n",
        "#model prediction\n",
        "def forward(X):\n",
        "  return w*X\n",
        "\n",
        "#loss=MSE\n",
        "def loss(y,y_predicted):\n",
        "  return ((y_predicted-y)**2).mean()\n",
        "\n",
        "#gradient\n",
        "#MSE=1/N * (w*x-y)**2\n",
        "#dJ/dw = 1/N 2x (w*x-y)\n",
        "def gradient(X,y,y_predicted):\n",
        "  return np.dot(2*X, y_predicted-y).mean()\n",
        "\n",
        "print(f'prediction before training: f(5)={forward(5):.3f}')\n",
        "\n",
        "#training\n",
        "learning_rate=0.01\n",
        "n_iters=13\n",
        "\n",
        "for epoch in range(n_iters):\n",
        "  #prediction=forward pass\n",
        "  y_pred=forward(X)\n",
        "\n",
        "  #loss\n",
        "  l=loss(y,y_pred)\n",
        "\n",
        "  #gradient\n",
        "  dw=gradient(X,y,y_pred)\n",
        "\n",
        "  #update weights\n",
        "  w-=learning_rate*dw\n",
        "\n",
        "  if epoch%1==0:\n",
        "    print(f'epoch {epoch+1}: w={w:.3f}, loss={l:.8f}')\n",
        "\n",
        "  print(f'prediction after training: f(5)={forward(5):.3f}')"
      ]
    },
    {
      "cell_type": "code",
      "source": [],
      "metadata": {
        "id": "N7MUTHI0xj8m"
      },
      "execution_count": null,
      "outputs": []
    }
  ]
}