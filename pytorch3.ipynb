{
  "nbformat": 4,
  "nbformat_minor": 0,
  "metadata": {
    "colab": {
      "provenance": [],
      "authorship_tag": "ABX9TyPvfqUwWRg/Tnq/67R3pv8W",
      "include_colab_link": true
    },
    "kernelspec": {
      "name": "python3",
      "display_name": "Python 3"
    },
    "language_info": {
      "name": "python"
    }
  },
  "cells": [
    {
      "cell_type": "markdown",
      "metadata": {
        "id": "view-in-github",
        "colab_type": "text"
      },
      "source": [
        "<a href=\"https://colab.research.google.com/github/ammarwesal/pytorch/blob/main/pytorch3.ipynb\" target=\"_parent\"><img src=\"https://colab.research.google.com/assets/colab-badge.svg\" alt=\"Open In Colab\"/></a>"
      ]
    },
    {
      "cell_type": "markdown",
      "source": [
        "https://www.youtube.com/watch?v=3Kb0QS6z7WA&list=PLqnslRFeH2UrcDBWF5mfPGpqQDSta6VK4&index=4"
      ],
      "metadata": {
        "id": "L1NOTql2qZxL"
      }
    },
    {
      "cell_type": "code",
      "source": [
        "import torch\n",
        "x=torch.tensor(1.0)\n",
        "y=torch.tensor(2.0)\n",
        "w=torch.tensor(1.0,requires_grad=True)\n",
        "\n",
        "#forwardpass\n",
        "y_hat=w*x\n",
        "loss=(y_hat-y)**2\n",
        "print(loss)\n",
        "\n",
        "#backwardpass\n",
        "loss.backward()\n",
        "print(w.grad)\n",
        "\n",
        "#update\n",
        "#next forward and backward pass\n"
      ],
      "metadata": {
        "colab": {
          "base_uri": "https://localhost:8080/"
        },
        "id": "JPXSewlaqZRi",
        "outputId": "9d709bda-a7af-4367-a3c8-abcf034adf67"
      },
      "execution_count": null,
      "outputs": [
        {
          "output_type": "stream",
          "name": "stdout",
          "text": [
            "tensor(1., grad_fn=<PowBackward0>)\n",
            "tensor(-2.)\n"
          ]
        }
      ]
    },
    {
      "cell_type": "code",
      "execution_count": null,
      "metadata": {
        "id": "UiaeQMhgOdG_"
      },
      "outputs": [],
      "source": []
    }
  ]
}